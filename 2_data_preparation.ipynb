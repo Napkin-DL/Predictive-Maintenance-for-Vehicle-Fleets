{
 "cells": [
  {
   "cell_type": "markdown",
   "metadata": {},
   "source": [
    "# 2. Data Preparation\n",
    "*Note: If you are prompted to select a kernel, please select SageMaker Jumpstart PyTorch 1.0*\n",
    "\n",
    "In this notebook we will prepare a sample data set.\n",
    "\n",
    "You can select Run->Run All Cells from the menu to run all cells in Studio (or Cell->Run All in a SageMaker Notebook Instance)."
   ]
  },
  {
   "cell_type": "code",
   "execution_count": null,
   "metadata": {},
   "outputs": [],
   "source": [
    "# !pip install sklearn"
   ]
  },
  {
   "cell_type": "code",
   "execution_count": null,
   "metadata": {},
   "outputs": [],
   "source": [
    "import os\n",
    "\n",
    "from source.config import Config\n",
    "from source.preprocessing import pivot_data, sample_dataset\n",
    "from source.dataset import DatasetGenerator"
   ]
  },
  {
   "cell_type": "code",
   "execution_count": null,
   "metadata": {},
   "outputs": [],
   "source": [
    "config = Config(filename=\"config/config.yaml\", fetch_sensor_headers=False)\n",
    "config"
   ]
  },
  {
   "cell_type": "code",
   "execution_count": null,
   "metadata": {},
   "outputs": [],
   "source": [
    "dirname = os.path.dirname(config.fleet_dataset_fn)\n",
    "if not os.path.exists(dirname):\n",
    "    os.makedirs(dirname)"
   ]
  },
  {
   "cell_type": "markdown",
   "metadata": {},
   "source": [
    "## Defining the dataset\n",
    "You can define your own dataset or use our scripts to generate a toy dataset"
   ]
  },
  {
   "cell_type": "code",
   "execution_count": null,
   "metadata": {},
   "outputs": [],
   "source": [
    "should_generate_data = True"
   ]
  },
  {
   "cell_type": "code",
   "execution_count": null,
   "metadata": {},
   "outputs": [],
   "source": [
    "if should_generate_data:\n",
    "    fleet_statistics_fn = \"data/generation/fleet_statistics.csv\"\n",
    "    generator = DatasetGenerator(fleet_statistics_fn=fleet_statistics_fn,\n",
    "                                 fleet_info_fn=config.fleet_info_fn, \n",
    "                                 fleet_sensor_logs_fn=config.fleet_sensor_logs_fn, \n",
    "                                 period_ms=config.period_ms, \n",
    "                                 )\n",
    "    generator.generate_dataset()\n",
    "\n",
    "assert os.path.exists(config.fleet_info_fn), \"Please copy your data to {}\".format(config.fleet_info_fn)\n",
    "assert os.path.exists(config.fleet_sensor_logs_fn), \"Please copy your data to {}\".format(config.fleet_sensor_logs_fn)"
   ]
  },
  {
   "cell_type": "markdown",
   "metadata": {},
   "source": [
    "## Merge the sensor data and fleet vehicle data together"
   ]
  },
  {
   "cell_type": "code",
   "execution_count": null,
   "metadata": {
    "scrolled": true
   },
   "outputs": [],
   "source": [
    "pivot_data(config)"
   ]
  },
  {
   "cell_type": "code",
   "execution_count": null,
   "metadata": {
    "pycharm": {
     "name": "#%%\n"
    }
   },
   "outputs": [],
   "source": [
    "sample_dataset(config)"
   ]
  },
  {
   "cell_type": "markdown",
   "metadata": {},
   "source": [
    "## Next Stage\n",
    "Up next we'll visualize the sample data. [Click here to continue.](./3_data_visualization.ipynb)."
   ]
  }
 ],
 "metadata": {
  "instance_type": "ml.t3.medium",
  "kernelspec": {
   "display_name": "Python 3 (SageMaker JumpStart PyTorch 1.0)",
   "language": "python",
   "name": "python3__SAGEMAKER_INTERNAL__arn:aws:sagemaker:ap-southeast-1:777981660708:image/sagemaker-jumpstart-pytorch-1.0"
  },
  "language_info": {
   "codemirror_mode": {
    "name": "ipython",
    "version": 3
   },
   "file_extension": ".py",
   "mimetype": "text/x-python",
   "name": "python",
   "nbconvert_exporter": "python",
   "pygments_lexer": "ipython3",
   "version": "3.7.10"
  }
 },
 "nbformat": 4,
 "nbformat_minor": 4
}
