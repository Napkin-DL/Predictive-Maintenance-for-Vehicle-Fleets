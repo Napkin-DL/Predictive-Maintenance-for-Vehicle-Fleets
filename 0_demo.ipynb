{
 "cells": [
  {
   "cell_type": "markdown",
   "metadata": {},
   "source": [
    "# Predictive Maintenance for Vehicle Fleets\n",
    "*Note: If you are prompted to select a kernel, please select SageMaker Jumpstart PyTorch 1.0*\n",
    "\n",
    "In this notebook you can get a quick preview of what the outcome when you complete the full notebook for this solution.\n",
    "\n",
    "We have some sample time-series input data consisting of battery voltage and battery current over time. We have previously trained a model on this voltage and current data and have deployed the model as an endpoint in SageMaker. We will call this endpoint with some sample data to determine the probability of failure in the next time period.\n",
    "\n",
    "You can select Run->Run All Cells from the menu to run all cells in Studio (or Cell->Run All in a SageMaker Notebook Instance)."
   ]
  },
  {
   "cell_type": "code",
   "execution_count": null,
   "metadata": {},
   "outputs": [],
   "source": [
    "import boto3\n",
    "import botocore\n",
    "import json\n",
    "import numpy as np\n",
    "import matplotlib.pyplot as plt\n",
    "\n",
    "from source.dl_utils.dataset import PMDataset_torch\n",
    "\n",
    "with open(\"stack_outputs.json\") as f:\n",
    "    sagemaker_configs = json.load(f)"
   ]
  },
  {
   "cell_type": "markdown",
   "metadata": {},
   "source": [
    "## Load and Visualize Sample Data"
   ]
  },
  {
   "cell_type": "code",
   "execution_count": null,
   "metadata": {},
   "outputs": [],
   "source": [
    "test_ds = PMDataset_torch(\n",
    "    \"data/processed/demo.csv\",\n",
    "    sensor_headers=[\"voltage\", \"current\"],\n",
    "    target_column=\"target\",\n",
    "    standardize=True,\n",
    "    verbose=False)\n",
    "\n",
    "print(\"Sample input data:\")\n",
    "\n",
    "data, label = test_ds[0]\n",
    "fig, axs = plt.subplots(1, len([\"voltage\", \"current\"]), figsize=(2000/108, 400/108), dpi=108)\n",
    "\n",
    "for i, sensor_header in enumerate([\"voltage\", \"current\"]):\n",
    "    axs[i].plot(data[:, i])\n",
    "    axs[i].set_ylabel(\"{}\".format(sensor_header))"
   ]
  },
  {
   "cell_type": "markdown",
   "metadata": {},
   "source": [
    "## Make Predictions with Demo Endpoint"
   ]
  },
  {
   "cell_type": "code",
   "execution_count": null,
   "metadata": {},
   "outputs": [],
   "source": [
    "config = botocore.config.Config(read_timeout=200)\n",
    "runtime = boto3.client('runtime.sagemaker', config=config)\n",
    "\n",
    "data = np.ones(shape=(1, 20, 2)).tolist()\n",
    "payload = json.dumps(data)\n",
    "\n",
    "response = runtime.invoke_endpoint(EndpointName=sagemaker_configs[\"SageMakerDemoEndpointName\"],\n",
    "                                   ContentType='application/json',\n",
    "                                   Body=payload)\n",
    "out = json.loads(response['Body'].read().decode())[0]\n",
    "\n",
    "print(\"Given the sample input data, the predicted probability of failure is {:0.2f}%\".format(100*(1.0-out[0]))) "
   ]
  },
  {
   "cell_type": "markdown",
   "metadata": {},
   "source": [
    "## Next Stage\n",
    "We'll introduce the solution. [Click here to continue.](./1_introduction.ipynb)."
   ]
  }
 ],
 "metadata": {
  "kernelspec": {
   "display_name": "Python 3 (PyTorch JumpStart)",
   "language": "python",
   "name": "python3__SAGEMAKER_INTERNAL__arn:aws:sagemaker:us-east-1:793310587911:image/sagemaker-jumpstart-pytorch-1.0"
  },
  "language_info": {
   "codemirror_mode": {
    "name": "ipython",
    "version": 3
   },
   "file_extension": ".py",
   "mimetype": "text/x-python",
   "name": "python",
   "nbconvert_exporter": "python",
   "pygments_lexer": "ipython3",
   "version": "3.6.10"
  },
  "pycharm": {
   "stem_cell": {
    "cell_type": "raw",
    "metadata": {
     "collapsed": false
    },
    "source": []
   }
  }
 },
 "nbformat": 4,
 "nbformat_minor": 4
}